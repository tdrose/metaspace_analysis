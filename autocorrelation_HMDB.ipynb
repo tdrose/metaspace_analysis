{
 "cells": [
  {
   "cell_type": "code",
   "execution_count": 17,
   "id": "ceb9d4a0-0580-4f70-88ea-928eccf97a9a",
   "metadata": {
    "tags": []
   },
   "outputs": [],
   "source": [
    "import os\n",
    "from tqdm import tqdm\n",
    "import pickle\n",
    "import random\n",
    "\n",
    "import pandas as pd\n",
    "import numpy as np\n",
    "import scipy\n",
    "from sklearn.metrics.pairwise import pairwise_kernels\n",
    "import matplotlib.pyplot as plt\n",
    "\n",
    "from metaspace import SMInstance\n",
    "from anndata import AnnData\n",
    "from metaspace2anndata import dataset_to_anndata\n",
    "import scanpy as sc\n",
    "import squidpy as sq"
   ]
  },
  {
   "cell_type": "markdown",
   "id": "efa21693-b05b-47e7-a9fc-cde56a342c07",
   "metadata": {},
   "source": [
    "# Insert config & co."
   ]
  },
  {
   "cell_type": "code",
   "execution_count": 19,
   "id": "0d846ee0-c47b-4463-a549-d6e6c55b998b",
   "metadata": {
    "tags": []
   },
   "outputs": [],
   "source": [
    "date_key = '230201'\n",
    "\n",
    "# Store in Alexandrov g drive\n",
    "data_dir = '/g/alexandr/tim/metaspace_evaluation/'\n",
    "\n",
    "store_dir = os.path.join(data_dir, date_key)\n",
    "\n",
    "database = ('HMDB', 'v4')\n",
    "\n",
    "filename = 'hmdb4_autocorrelation.pickle'\n",
    "\n",
    "# Load dataset\n",
    "adata_mol = pickle.load(open( os.path.join(store_dir, 'all_datasets_mol_anndata.pickle'), \"rb\" ))\n",
    "\n",
    "sc.pp.filter_genes(adata_mol, min_cells=200)\n",
    "sc.pp.filter_cells(adata_mol, min_genes=50)\n",
    "sc.pp.normalize_total(adata_mol, target_sum=1e4)\n",
    "\n",
    "out_dict = {}\n",
    "\n",
    "sm = SMInstance()\n",
    "counter = 2001"
   ]
  },
  {
   "cell_type": "code",
   "execution_count": 20,
   "id": "beacbdb4-e056-45da-9f5d-9ab774479296",
   "metadata": {},
   "outputs": [],
   "source": [
    "out_dict = pickle.load(open(os.path.join('/scratch/trose/tmp', str(2000) + '_' + filename), \"rb\" ))"
   ]
  },
  {
   "cell_type": "code",
   "execution_count": 21,
   "id": "8441b23b-1cbc-4521-ba21-77a41c4261a9",
   "metadata": {
    "tags": []
   },
   "outputs": [
    {
     "data": {
      "text/plain": [
       "6009"
      ]
     },
     "execution_count": 21,
     "metadata": {},
     "output_type": "execute_result"
    }
   ],
   "source": [
    "len(out_dict)"
   ]
  },
  {
   "cell_type": "code",
   "execution_count": 22,
   "id": "6d20a911-f1a8-4e88-ba62-03de3dc44a0a",
   "metadata": {},
   "outputs": [
    {
     "name": "stdout",
     "output_type": "stream",
     "text": [
      "2023-02-01_06h52m46s\n",
      "skipping\n",
      "2022-10-25_22h26m32s\n",
      "skipping\n",
      "2022-09-16_10h44m35s\n",
      "skipping\n",
      "2022-08-29_23h04m44s\n",
      "skipping\n",
      "2021-09-21_23h51m11s\n",
      "skipping\n",
      "2021-08-25_20h59m05s\n",
      "skipping\n",
      "2021-08-05_00h51m27s\n",
      "skipping\n",
      "2021-08-02_09h45m30s\n",
      "skipping\n",
      "2021-07-22_13h26m26s\n",
      "skipping\n",
      "2021-07-12_17h34m50s\n",
      "skipping\n",
      "2021-07-06_15h53m32s\n",
      "skipping\n",
      "2021-06-14_14h31m25s\n",
      "skipping\n",
      "2021-05-30_18h51m15s\n",
      "skipping\n",
      "2021-04-27_18h46m55s\n",
      "skipping\n",
      "2021-04-27_18h45m26s\n",
      "skipping\n",
      "2021-01-29_16h20m38s\n",
      "skipping\n",
      "2020-10-21_19h54m11s\n",
      "skipping\n",
      "2019-12-05_11h13m06s\n",
      "skipping\n",
      "2019-09-27_19h28m56s\n",
      "skipping\n",
      "2019-09-27_19h28m08s\n",
      "skipping\n",
      "2019-09-27_19h27m04s\n",
      "skipping\n",
      "2019-09-27_19h26m04s\n",
      "skipping\n",
      "2019-09-27_19h24m56s\n",
      "skipping\n",
      "2019-08-18_19h50m58s\n",
      "skipping\n",
      "2019-08-18_15h39m14s\n",
      "skipping\n",
      "2019-08-15_15h34m59s\n",
      "skipping\n",
      "2019-08-12_11h38m59s\n",
      "skipping\n",
      "2019-03-19_06h36m18s\n",
      "skipping\n",
      "2019-03-19_06h02m30s\n",
      "skipping\n",
      "2019-02-27_11h03m02s\n",
      "skipping\n",
      "2018-11-30_03h20m05s\n",
      "skipping\n",
      "2018-11-30_03h16m06s\n",
      "skipping\n",
      "2018-10-10_16h20m23s\n",
      "skipping\n",
      "2018-08-03_10h46m39s\n",
      "skipping\n",
      "2018-07-05_12h35m48s\n",
      "skipping\n",
      "2018-06-22_14h03m00s\n",
      "skipping\n",
      "2018-05-30_18h50m59s\n",
      "skipping\n",
      "2018-05-23_15h10m59s\n"
     ]
    },
    {
     "name": "stderr",
     "output_type": "stream",
     "text": [
      "100%|████████████████████████████████████████| 125/125 [00:03<00:00, 34.55it/s]\n",
      "/home/trose/.conda/envs/metabolomics/lib/python3.10/site-packages/anndata/_core/anndata.py:121: ImplicitModificationWarning: Transforming to str index.\n",
      "  warnings.warn(\"Transforming to str index.\", ImplicitModificationWarning)\n"
     ]
    },
    {
     "name": "stdout",
     "output_type": "stream",
     "text": [
      "skipping\n",
      "2017-02-09_03h00m31s\n",
      "skipping\n",
      "2017-03-17_08h39m50s\n",
      "skipping\n",
      "2017-02-17_04h13m17s\n",
      "skipping\n",
      "2017-05-07_08h51m27s\n",
      "skipping\n",
      "2017-05-07_09h41m33s\n",
      "skipping\n",
      "2016-10-01_12h25m48s\n",
      "skipping\n",
      "2016-10-01_12h05m45s\n",
      "skipping\n",
      "2016-12-13_13h53m14s\n",
      "skipping\n",
      "2016-12-13_13h54m24s\n",
      "skipping\n",
      "2016-12-13_13h54m35s\n",
      "skipping\n",
      "2016-12-13_13h54m45s\n",
      "skipping\n",
      "2016-12-13_13h54m39s\n",
      "skipping\n",
      "2017-05-22_06h33m10s\n",
      "skipping\n",
      "2017-05-22_06h39m58s\n",
      "skipping\n",
      "2017-10-16_17h02m38s\n",
      "skipping\n",
      "2017-10-24_13h41m42s\n",
      "skipping\n",
      "2017-07-31_19h20m33s\n",
      "skipping\n",
      "2017-05-22_14h31m10s\n",
      "skipping\n",
      "2017-05-22_14h12m32s\n",
      "skipping\n",
      "2018-02-23_09h07m57s\n"
     ]
    },
    {
     "name": "stderr",
     "output_type": "stream",
     "text": [
      "100%|████████████████████████████████████████| 8/8 [00:00<00:00, 19.46it/s]\n",
      "/home/trose/.conda/envs/metabolomics/lib/python3.10/site-packages/anndata/_core/anndata.py:121: ImplicitModificationWarning: Transforming to str index.\n",
      "  warnings.warn(\"Transforming to str index.\", ImplicitModificationWarning)\n"
     ]
    },
    {
     "name": "stdout",
     "output_type": "stream",
     "text": [
      "skipping\n",
      "2018-02-23_11h49m27s\n"
     ]
    },
    {
     "name": "stderr",
     "output_type": "stream",
     "text": [
      "100%|████████████████████████████████████████| 57/57 [00:03<00:00, 14.36it/s]\n",
      "/home/trose/.conda/envs/metabolomics/lib/python3.10/site-packages/anndata/_core/anndata.py:121: ImplicitModificationWarning: Transforming to str index.\n",
      "  warnings.warn(\"Transforming to str index.\", ImplicitModificationWarning)\n"
     ]
    },
    {
     "name": "stdout",
     "output_type": "stream",
     "text": [
      "skipping\n",
      "2018-04-26_11h23m01s\n"
     ]
    },
    {
     "name": "stderr",
     "output_type": "stream",
     "text": [
      "100%|████████████████████████████████████████| 423/423 [00:06<00:00, 64.15it/s]\n",
      "/home/trose/.conda/envs/metabolomics/lib/python3.10/site-packages/anndata/_core/anndata.py:121: ImplicitModificationWarning: Transforming to str index.\n",
      "  warnings.warn(\"Transforming to str index.\", ImplicitModificationWarning)\n"
     ]
    },
    {
     "name": "stdout",
     "output_type": "stream",
     "text": [
      "2002\n",
      "2018-04-26_11h22m02s\n"
     ]
    },
    {
     "name": "stderr",
     "output_type": "stream",
     "text": [
      "100%|████████████████████████████████████████| 435/435 [00:04<00:00, 105.22it/s]\n",
      "/home/trose/.conda/envs/metabolomics/lib/python3.10/site-packages/anndata/_core/anndata.py:121: ImplicitModificationWarning: Transforming to str index.\n",
      "  warnings.warn(\"Transforming to str index.\", ImplicitModificationWarning)\n"
     ]
    },
    {
     "name": "stdout",
     "output_type": "stream",
     "text": [
      "2003\n",
      "2018-04-26_10h00m51s\n"
     ]
    },
    {
     "name": "stderr",
     "output_type": "stream",
     "text": [
      "100%|████████████████████████████████████████| 6/6 [00:00<00:00, 15.76it/s]\n",
      "/home/trose/.conda/envs/metabolomics/lib/python3.10/site-packages/anndata/_core/anndata.py:121: ImplicitModificationWarning: Transforming to str index.\n",
      "  warnings.warn(\"Transforming to str index.\", ImplicitModificationWarning)\n"
     ]
    },
    {
     "name": "stdout",
     "output_type": "stream",
     "text": [
      "2004\n",
      "2018-04-26_09h41m37s\n"
     ]
    },
    {
     "name": "stderr",
     "output_type": "stream",
     "text": [
      "100%|████████████████████████████████████████| 19/19 [00:01<00:00, 13.25it/s]\n",
      "/home/trose/.conda/envs/metabolomics/lib/python3.10/site-packages/anndata/_core/anndata.py:121: ImplicitModificationWarning: Transforming to str index.\n",
      "  warnings.warn(\"Transforming to str index.\", ImplicitModificationWarning)\n"
     ]
    },
    {
     "name": "stdout",
     "output_type": "stream",
     "text": [
      "2005\n",
      "2018-04-24_11h38m35s\n"
     ]
    },
    {
     "name": "stderr",
     "output_type": "stream",
     "text": [
      "100%|████████████████████████████████████████| 261/261 [00:05<00:00, 47.89it/s]\n",
      "/home/trose/.conda/envs/metabolomics/lib/python3.10/site-packages/anndata/_core/anndata.py:121: ImplicitModificationWarning: Transforming to str index.\n",
      "  warnings.warn(\"Transforming to str index.\", ImplicitModificationWarning)\n"
     ]
    },
    {
     "name": "stdout",
     "output_type": "stream",
     "text": [
      "2006\n",
      "2018-04-24_18h54m28s\n"
     ]
    },
    {
     "name": "stderr",
     "output_type": "stream",
     "text": [
      "100%|████████████████████████████████████████| 2/2 [00:00<00:00,  7.64it/s]\n",
      "/home/trose/.conda/envs/metabolomics/lib/python3.10/site-packages/anndata/_core/anndata.py:121: ImplicitModificationWarning: Transforming to str index.\n",
      "  warnings.warn(\"Transforming to str index.\", ImplicitModificationWarning)\n"
     ]
    },
    {
     "name": "stdout",
     "output_type": "stream",
     "text": [
      "2007\n",
      "2018-04-24_12h25m13s\n"
     ]
    },
    {
     "name": "stderr",
     "output_type": "stream",
     "text": [
      "100%|████████████████████████████████████████| 423/423 [00:06<00:00, 63.43it/s] \n",
      "/home/trose/.conda/envs/metabolomics/lib/python3.10/site-packages/anndata/_core/anndata.py:121: ImplicitModificationWarning: Transforming to str index.\n",
      "  warnings.warn(\"Transforming to str index.\", ImplicitModificationWarning)\n"
     ]
    },
    {
     "name": "stdout",
     "output_type": "stream",
     "text": [
      "2008\n",
      "2018-04-24_12h22m14s\n"
     ]
    },
    {
     "name": "stderr",
     "output_type": "stream",
     "text": [
      "100%|████████████████████████████████████████| 486/486 [00:05<00:00, 96.89it/s] \n",
      "/home/trose/.conda/envs/metabolomics/lib/python3.10/site-packages/anndata/_core/anndata.py:121: ImplicitModificationWarning: Transforming to str index.\n",
      "  warnings.warn(\"Transforming to str index.\", ImplicitModificationWarning)\n"
     ]
    },
    {
     "name": "stdout",
     "output_type": "stream",
     "text": [
      "2009\n",
      "2018-04-24_12h18m42s\n"
     ]
    },
    {
     "name": "stderr",
     "output_type": "stream",
     "text": [
      "100%|████████████████████████████████████████| 675/675 [00:05<00:00, 131.62it/s]\n",
      "/home/trose/.conda/envs/metabolomics/lib/python3.10/site-packages/anndata/_core/anndata.py:121: ImplicitModificationWarning: Transforming to str index.\n",
      "  warnings.warn(\"Transforming to str index.\", ImplicitModificationWarning)\n"
     ]
    },
    {
     "name": "stdout",
     "output_type": "stream",
     "text": [
      "2010\n",
      "2018-04-24_12h12m43s\n"
     ]
    },
    {
     "name": "stderr",
     "output_type": "stream",
     "text": [
      "100%|████████████████████████████████████████| 654/654 [00:05<00:00, 128.37it/s]\n",
      "/home/trose/.conda/envs/metabolomics/lib/python3.10/site-packages/anndata/_core/anndata.py:121: ImplicitModificationWarning: Transforming to str index.\n",
      "  warnings.warn(\"Transforming to str index.\", ImplicitModificationWarning)\n"
     ]
    },
    {
     "name": "stdout",
     "output_type": "stream",
     "text": [
      "2011\n",
      "2018-04-24_12h05m52s\n"
     ]
    },
    {
     "name": "stderr",
     "output_type": "stream",
     "text": [
      "100%|████████████████████████████████████████| 571/571 [00:04<00:00, 131.59it/s]\n",
      "/home/trose/.conda/envs/metabolomics/lib/python3.10/site-packages/anndata/_core/anndata.py:121: ImplicitModificationWarning: Transforming to str index.\n",
      "  warnings.warn(\"Transforming to str index.\", ImplicitModificationWarning)\n"
     ]
    },
    {
     "name": "stdout",
     "output_type": "stream",
     "text": [
      "2012\n",
      "2018-04-24_11h58m51s\n"
     ]
    },
    {
     "name": "stderr",
     "output_type": "stream",
     "text": [
      "100%|████████████████████████████████████████| 603/603 [00:05<00:00, 119.34it/s]\n",
      "/home/trose/.conda/envs/metabolomics/lib/python3.10/site-packages/anndata/_core/anndata.py:121: ImplicitModificationWarning: Transforming to str index.\n",
      "  warnings.warn(\"Transforming to str index.\", ImplicitModificationWarning)\n"
     ]
    },
    {
     "name": "stdout",
     "output_type": "stream",
     "text": [
      "2013\n",
      "2018-04-24_11h49m16s\n"
     ]
    },
    {
     "name": "stderr",
     "output_type": "stream",
     "text": [
      "100%|████████████████████████████████████████| 544/544 [00:04<00:00, 109.18it/s]\n",
      "/home/trose/.conda/envs/metabolomics/lib/python3.10/site-packages/anndata/_core/anndata.py:121: ImplicitModificationWarning: Transforming to str index.\n",
      "  warnings.warn(\"Transforming to str index.\", ImplicitModificationWarning)\n"
     ]
    },
    {
     "name": "stdout",
     "output_type": "stream",
     "text": [
      "2014\n",
      "2018-05-04_19h35m24s\n"
     ]
    },
    {
     "name": "stderr",
     "output_type": "stream",
     "text": [
      "100%|████████████████████████████████████████| 122/122 [00:03<00:00, 32.14it/s]\n",
      "/home/trose/.conda/envs/metabolomics/lib/python3.10/site-packages/anndata/_core/anndata.py:121: ImplicitModificationWarning: Transforming to str index.\n",
      "  warnings.warn(\"Transforming to str index.\", ImplicitModificationWarning)\n"
     ]
    },
    {
     "name": "stdout",
     "output_type": "stream",
     "text": [
      "2015\n",
      "2018-05-04_17h29m28s\n"
     ]
    },
    {
     "name": "stderr",
     "output_type": "stream",
     "text": [
      "100%|████████████████████████████████████████| 112/112 [00:03<00:00, 30.55it/s]\n",
      "/home/trose/.conda/envs/metabolomics/lib/python3.10/site-packages/anndata/_core/anndata.py:121: ImplicitModificationWarning: Transforming to str index.\n",
      "  warnings.warn(\"Transforming to str index.\", ImplicitModificationWarning)\n"
     ]
    },
    {
     "name": "stdout",
     "output_type": "stream",
     "text": [
      "2016\n",
      "2016-11-15_12h00m00s\n"
     ]
    },
    {
     "name": "stderr",
     "output_type": "stream",
     "text": [
      "100%|████████████████████████████████████████| 116/116 [00:04<00:00, 28.04it/s]\n",
      "/home/trose/.conda/envs/metabolomics/lib/python3.10/site-packages/anndata/_core/anndata.py:121: ImplicitModificationWarning: Transforming to str index.\n",
      "  warnings.warn(\"Transforming to str index.\", ImplicitModificationWarning)\n"
     ]
    },
    {
     "name": "stdout",
     "output_type": "stream",
     "text": [
      "2017\n",
      "2016-10-10_10h50m00s\n"
     ]
    },
    {
     "name": "stderr",
     "output_type": "stream",
     "text": [
      "100%|████████████████████████████████████████| 140/140 [00:03<00:00, 37.11it/s]\n",
      "/home/trose/.conda/envs/metabolomics/lib/python3.10/site-packages/anndata/_core/anndata.py:121: ImplicitModificationWarning: Transforming to str index.\n",
      "  warnings.warn(\"Transforming to str index.\", ImplicitModificationWarning)\n"
     ]
    },
    {
     "name": "stdout",
     "output_type": "stream",
     "text": [
      "2018\n",
      "2016-10-10_10h50m02s\n"
     ]
    },
    {
     "name": "stderr",
     "output_type": "stream",
     "text": [
      "100%|████████████████████████████████████████| 61/61 [00:03<00:00, 15.77it/s]\n",
      "/home/trose/.conda/envs/metabolomics/lib/python3.10/site-packages/anndata/_core/anndata.py:121: ImplicitModificationWarning: Transforming to str index.\n",
      "  warnings.warn(\"Transforming to str index.\", ImplicitModificationWarning)\n"
     ]
    },
    {
     "name": "stdout",
     "output_type": "stream",
     "text": [
      "2019\n",
      "2016-11-15_12h49m00s\n"
     ]
    },
    {
     "name": "stderr",
     "output_type": "stream",
     "text": [
      "100%|████████████████████████████████████████| 30/30 [00:03<00:00,  8.38it/s]\n",
      "/home/trose/.conda/envs/metabolomics/lib/python3.10/site-packages/anndata/_core/anndata.py:121: ImplicitModificationWarning: Transforming to str index.\n",
      "  warnings.warn(\"Transforming to str index.\", ImplicitModificationWarning)\n"
     ]
    },
    {
     "name": "stdout",
     "output_type": "stream",
     "text": [
      "2020\n",
      "2016-10-10_10h50m03s\n"
     ]
    },
    {
     "name": "stderr",
     "output_type": "stream",
     "text": [
      "100%|████████████████████████████████████████| 94/94 [00:03<00:00, 24.75it/s]\n",
      "/home/trose/.conda/envs/metabolomics/lib/python3.10/site-packages/anndata/_core/anndata.py:121: ImplicitModificationWarning: Transforming to str index.\n",
      "  warnings.warn(\"Transforming to str index.\", ImplicitModificationWarning)\n"
     ]
    },
    {
     "name": "stdout",
     "output_type": "stream",
     "text": [
      "2021\n",
      "2016-10-10_10h50m01s\n"
     ]
    },
    {
     "name": "stderr",
     "output_type": "stream",
     "text": [
      "100%|████████████████████████████████████████| 25/25 [00:02<00:00, 10.99it/s]\n",
      "/home/trose/.conda/envs/metabolomics/lib/python3.10/site-packages/anndata/_core/anndata.py:121: ImplicitModificationWarning: Transforming to str index.\n",
      "  warnings.warn(\"Transforming to str index.\", ImplicitModificationWarning)\n"
     ]
    },
    {
     "name": "stdout",
     "output_type": "stream",
     "text": [
      "2022\n",
      "2017-03-22_10h45m50s\n"
     ]
    },
    {
     "name": "stderr",
     "output_type": "stream",
     "text": [
      "100%|████████████████████████████████████████| 25/25 [00:02<00:00, 11.66it/s]\n",
      "/home/trose/.conda/envs/metabolomics/lib/python3.10/site-packages/anndata/_core/anndata.py:121: ImplicitModificationWarning: Transforming to str index.\n",
      "  warnings.warn(\"Transforming to str index.\", ImplicitModificationWarning)\n"
     ]
    },
    {
     "name": "stdout",
     "output_type": "stream",
     "text": [
      "2023\n",
      "2018-05-04_10h15m29s\n"
     ]
    },
    {
     "name": "stderr",
     "output_type": "stream",
     "text": [
      "100%|████████████████████████████████████████| 6/6 [00:00<00:00, 14.14it/s]\n",
      "/home/trose/.conda/envs/metabolomics/lib/python3.10/site-packages/anndata/_core/anndata.py:121: ImplicitModificationWarning: Transforming to str index.\n",
      "  warnings.warn(\"Transforming to str index.\", ImplicitModificationWarning)\n"
     ]
    },
    {
     "name": "stdout",
     "output_type": "stream",
     "text": [
      "2024\n",
      "2018-05-04_03h10m28s\n"
     ]
    },
    {
     "name": "stderr",
     "output_type": "stream",
     "text": [
      "100%|████████████████████████████████████████| 4/4 [00:00<00:00, 11.64it/s]\n",
      "/home/trose/.conda/envs/metabolomics/lib/python3.10/site-packages/anndata/_core/anndata.py:121: ImplicitModificationWarning: Transforming to str index.\n",
      "  warnings.warn(\"Transforming to str index.\", ImplicitModificationWarning)\n"
     ]
    },
    {
     "name": "stdout",
     "output_type": "stream",
     "text": [
      "2025\n",
      "2018-05-04_03h04m13s\n"
     ]
    },
    {
     "name": "stderr",
     "output_type": "stream",
     "text": [
      "100%|████████████████████████████████████████| 18/18 [00:01<00:00, 15.10it/s]\n",
      "/home/trose/.conda/envs/metabolomics/lib/python3.10/site-packages/anndata/_core/anndata.py:121: ImplicitModificationWarning: Transforming to str index.\n",
      "  warnings.warn(\"Transforming to str index.\", ImplicitModificationWarning)\n"
     ]
    },
    {
     "name": "stdout",
     "output_type": "stream",
     "text": [
      "2026\n",
      "2018-05-03_17h34m18s\n"
     ]
    },
    {
     "name": "stderr",
     "output_type": "stream",
     "text": [
      "100%|████████████████████████████████████████| 22/22 [00:01<00:00, 11.51it/s]\n",
      "/home/trose/.conda/envs/metabolomics/lib/python3.10/site-packages/anndata/_core/anndata.py:121: ImplicitModificationWarning: Transforming to str index.\n",
      "  warnings.warn(\"Transforming to str index.\", ImplicitModificationWarning)\n"
     ]
    },
    {
     "name": "stdout",
     "output_type": "stream",
     "text": [
      "2027\n",
      "2018-05-03_15h21m06s\n"
     ]
    },
    {
     "name": "stderr",
     "output_type": "stream",
     "text": [
      "100%|████████████████████████████████████████| 14/14 [00:00<00:00, 14.37it/s]\n",
      "/home/trose/.conda/envs/metabolomics/lib/python3.10/site-packages/anndata/_core/anndata.py:121: ImplicitModificationWarning: Transforming to str index.\n",
      "  warnings.warn(\"Transforming to str index.\", ImplicitModificationWarning)\n"
     ]
    },
    {
     "name": "stdout",
     "output_type": "stream",
     "text": [
      "2028\n",
      "2018-05-03_15h47m02s\n"
     ]
    },
    {
     "name": "stderr",
     "output_type": "stream",
     "text": [
      "100%|████████████████████████████████████████| 14/14 [00:01<00:00, 13.25it/s]\n",
      "/home/trose/.conda/envs/metabolomics/lib/python3.10/site-packages/anndata/_core/anndata.py:121: ImplicitModificationWarning: Transforming to str index.\n",
      "  warnings.warn(\"Transforming to str index.\", ImplicitModificationWarning)\n"
     ]
    },
    {
     "name": "stdout",
     "output_type": "stream",
     "text": [
      "2029\n",
      "2018-05-03_15h58m08s\n"
     ]
    },
    {
     "name": "stderr",
     "output_type": "stream",
     "text": [
      "100%|████████████████████████████████████████| 12/12 [00:00<00:00, 17.27it/s]\n",
      "/home/trose/.conda/envs/metabolomics/lib/python3.10/site-packages/anndata/_core/anndata.py:121: ImplicitModificationWarning: Transforming to str index.\n",
      "  warnings.warn(\"Transforming to str index.\", ImplicitModificationWarning)\n"
     ]
    },
    {
     "name": "stdout",
     "output_type": "stream",
     "text": [
      "2030\n",
      "2018-04-25_09h27m43s\n"
     ]
    },
    {
     "name": "stderr",
     "output_type": "stream",
     "text": [
      "100%|████████████████████████████████████████| 15/15 [00:00<00:00, 15.43it/s]\n",
      "/home/trose/.conda/envs/metabolomics/lib/python3.10/site-packages/anndata/_core/anndata.py:121: ImplicitModificationWarning: Transforming to str index.\n",
      "  warnings.warn(\"Transforming to str index.\", ImplicitModificationWarning)\n"
     ]
    },
    {
     "name": "stdout",
     "output_type": "stream",
     "text": [
      "2031\n",
      "2018-04-27_16h56m19s\n"
     ]
    },
    {
     "name": "stderr",
     "output_type": "stream",
     "text": [
      "100%|████████████████████████████████████████| 14/14 [00:01<00:00, 13.19it/s]\n",
      "/home/trose/.conda/envs/metabolomics/lib/python3.10/site-packages/anndata/_core/anndata.py:121: ImplicitModificationWarning: Transforming to str index.\n",
      "  warnings.warn(\"Transforming to str index.\", ImplicitModificationWarning)\n"
     ]
    },
    {
     "name": "stdout",
     "output_type": "stream",
     "text": [
      "2032\n",
      "2018-04-27_17h39m20s\n"
     ]
    },
    {
     "name": "stderr",
     "output_type": "stream",
     "text": [
      "100%|████████████████████████████████████████| 12/12 [00:00<00:00, 17.71it/s]\n",
      "/home/trose/.conda/envs/metabolomics/lib/python3.10/site-packages/anndata/_core/anndata.py:121: ImplicitModificationWarning: Transforming to str index.\n",
      "  warnings.warn(\"Transforming to str index.\", ImplicitModificationWarning)\n"
     ]
    },
    {
     "name": "stdout",
     "output_type": "stream",
     "text": [
      "2033\n",
      "2018-04-27_17h26m55s\n"
     ]
    },
    {
     "name": "stderr",
     "output_type": "stream",
     "text": [
      "100%|████████████████████████████████████████| 13/13 [00:00<00:00, 14.22it/s]\n",
      "/home/trose/.conda/envs/metabolomics/lib/python3.10/site-packages/anndata/_core/anndata.py:121: ImplicitModificationWarning: Transforming to str index.\n",
      "  warnings.warn(\"Transforming to str index.\", ImplicitModificationWarning)\n"
     ]
    },
    {
     "name": "stdout",
     "output_type": "stream",
     "text": [
      "2034\n"
     ]
    }
   ],
   "source": [
    "for ds_id in adata_mol.obs.index:\n",
    "    \n",
    "    if ds_id not in out_dict.keys():\n",
    "        \n",
    "        print(ds_id)\n",
    "        ds = sm.dataset(id=ds_id)\n",
    "        \n",
    "        try:\n",
    "\n",
    "            tmp_adata = dataset_to_anndata(ds, fdr=0.1, database=database)\n",
    "            \n",
    "            sq.gr.spatial_neighbors(tmp_adata, coord_type='grid')\n",
    "            tmp_adata.obsp['connectivities'] = tmp_adata.obsp['spatial_connectivities']\n",
    "\n",
    "            out_dict[ds_id] = {\n",
    "                'xdim': max(tmp_adata.obs['x']) + 1,\n",
    "                'ydim': max(tmp_adata.obs['y']) + 1,\n",
    "                'nfeatures': len(tmp_adata.var.index),\n",
    "                'autocorrelation': {k: v for v, k in zip(sc.metrics.morans_i(tmp_adata), tmp_adata.var.index)}\n",
    "            }\n",
    "            \n",
    "            counter += 1\n",
    "\n",
    "            if (counter % 50) == 0:\n",
    "                        pickle.dump(out_dict, \n",
    "                    open( os.path.join('/scratch/trose/tmp', str(counter) + '_' + filename), \"wb\" ) )\n",
    "                \n",
    "        except:\n",
    "            print('skipping')\n",
    "            continue\n",
    "    \n",
    "        print(counter)\n",
    "        \n",
    "pickle.dump(out_dict, \n",
    "            open( os.path.join(store_dir, filename), \"wb\" ) )"
   ]
  },
  {
   "cell_type": "code",
   "execution_count": 7,
   "id": "97171b24-40d9-4436-9efd-ca9ebb4ed1cd",
   "metadata": {
    "tags": []
   },
   "outputs": [
    {
     "data": {
      "text/plain": [
       "'2023-02-01_06h52m46s'"
      ]
     },
     "execution_count": 7,
     "metadata": {},
     "output_type": "execute_result"
    }
   ],
   "source": [
    "ds_id"
   ]
  },
  {
   "cell_type": "code",
   "execution_count": 13,
   "id": "665a02c8-1c25-456f-84b9-43485d4bb71f",
   "metadata": {},
   "outputs": [],
   "source": [
    "sm = SMInstance()\n",
    "ds = sm.dataset(id='2023-02-01_06h52m46s')"
   ]
  },
  {
   "cell_type": "code",
   "execution_count": 15,
   "id": "8d4f0c3f-076f-496c-9a46-8354a6cc1b9d",
   "metadata": {
    "tags": []
   },
   "outputs": [
    {
     "data": {
      "text/html": [
       "<div>\n",
       "<style scoped>\n",
       "    .dataframe tbody tr th:only-of-type {\n",
       "        vertical-align: middle;\n",
       "    }\n",
       "\n",
       "    .dataframe tbody tr th {\n",
       "        vertical-align: top;\n",
       "    }\n",
       "\n",
       "    .dataframe thead th {\n",
       "        text-align: right;\n",
       "    }\n",
       "</style>\n",
       "<table border=\"1\" class=\"dataframe\">\n",
       "  <thead>\n",
       "    <tr style=\"text-align: right;\">\n",
       "      <th></th>\n",
       "    </tr>\n",
       "  </thead>\n",
       "  <tbody>\n",
       "  </tbody>\n",
       "</table>\n",
       "</div>"
      ],
      "text/plain": [
       "Empty DataFrame\n",
       "Columns: []\n",
       "Index: []"
      ]
     },
     "execution_count": 15,
     "metadata": {},
     "output_type": "execute_result"
    }
   ],
   "source": [
    "ds.results(fdr=0.1)"
   ]
  },
  {
   "cell_type": "code",
   "execution_count": null,
   "id": "038b8e53-d772-4bb0-a209-020e4a0da7b7",
   "metadata": {},
   "outputs": [],
   "source": []
  }
 ],
 "metadata": {
  "kernelspec": {
   "display_name": "Python (metabolomics)",
   "language": "python",
   "name": "metabolomics"
  },
  "language_info": {
   "codemirror_mode": {
    "name": "ipython",
    "version": 3
   },
   "file_extension": ".py",
   "mimetype": "text/x-python",
   "name": "python",
   "nbconvert_exporter": "python",
   "pygments_lexer": "ipython3",
   "version": "3.10.6"
  }
 },
 "nbformat": 4,
 "nbformat_minor": 5
}
