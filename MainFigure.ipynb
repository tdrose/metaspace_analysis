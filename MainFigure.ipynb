{
 "cells": [
  {
   "cell_type": "markdown",
   "id": "9a2506fb-fa54-4adf-9457-25490e54d8cb",
   "metadata": {},
   "source": [
    "# Packages"
   ]
  },
  {
   "cell_type": "code",
   "execution_count": null,
   "id": "a8815f33-1f7c-4f18-89e0-77765ed5b0f6",
   "metadata": {},
   "outputs": [],
   "source": []
  },
  {
   "cell_type": "markdown",
   "id": "62e01aeb-10f4-4619-977d-98660cc8d667",
   "metadata": {},
   "source": [
    "# Load data\n",
    "\n",
    "Requires all previous case study notebooks/scripts to be executed before. Their output data is required to assemble the main figure."
   ]
  },
  {
   "cell_type": "code",
   "execution_count": null,
   "id": "632b8068-5361-46ef-a03e-9bc22a59eb7b",
   "metadata": {},
   "outputs": [],
   "source": []
  },
  {
   "cell_type": "markdown",
   "id": "23993c06-3886-4a1c-afae-d6e453514f12",
   "metadata": {},
   "source": [
    "# Main Figure assembly\n",
    "\n",
    "Some plots (e.g. from R) are left blank and are inserted manually later using Inkscape."
   ]
  },
  {
   "cell_type": "code",
   "execution_count": null,
   "id": "ab597d5c-b5ca-4f28-8f55-3a27e0eeefd0",
   "metadata": {},
   "outputs": [],
   "source": []
  }
 ],
 "metadata": {
  "kernelspec": {
   "display_name": "metabolomics2",
   "language": "python",
   "name": "metabolomics2"
  },
  "language_info": {
   "codemirror_mode": {
    "name": "ipython",
    "version": 3
   },
   "file_extension": ".py",
   "mimetype": "text/x-python",
   "name": "python",
   "nbconvert_exporter": "python",
   "pygments_lexer": "ipython3",
   "version": "3.10.12"
  }
 },
 "nbformat": 4,
 "nbformat_minor": 5
}
