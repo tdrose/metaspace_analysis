{
 "cells": [
  {
   "cell_type": "code",
   "execution_count": 1,
   "id": "e8cd8a64-c3ee-4e35-b26f-c01e9b8b369b",
   "metadata": {},
   "outputs": [],
   "source": [
    "import os\n",
    "from tqdm import tqdm\n",
    "import pickle\n",
    "import random\n",
    "\n",
    "import pandas as pd\n",
    "import numpy as np\n",
    "import scipy\n",
    "from sklearn.metrics.pairwise import pairwise_kernels\n",
    "import matplotlib.pyplot as plt\n",
    "\n",
    "from metaspace import SMInstance\n",
    "from anndata import AnnData\n",
    "from metaspace2anndata import dataset_to_anndata"
   ]
  },
  {
   "cell_type": "code",
   "execution_count": 2,
   "id": "c80952b2-f7db-409c-bda9-dfc40d17c326",
   "metadata": {},
   "outputs": [],
   "source": [
    "date_key = '230201'\n",
    "\n",
    "# Store in Alexandrov g drive\n",
    "data_dir = '/g/alexandr/tim/metaspace_evaluation/'\n",
    "\n",
    "store_dir = os.path.join(data_dir, date_key)\n",
    "\n",
    "if date_key not in os.listdir(data_dir):\n",
    "    os.mkdir(store_dir)"
   ]
  },
  {
   "cell_type": "code",
   "execution_count": 3,
   "id": "1d383300-50c5-449e-a7d9-f4ca36ff7bdc",
   "metadata": {},
   "outputs": [],
   "source": [
    "sm = SMInstance()\n",
    "dss = pickle.load(open(os.path.join(store_dir, 'all_datasets.pickle'), \"rb\" ) )"
   ]
  },
  {
   "cell_type": "code",
   "execution_count": 7,
   "id": "7dc4c89b-f8a6-4ef0-b4f6-e7edf2b8ef98",
   "metadata": {},
   "outputs": [],
   "source": [
    "os.mkdir(os.path.join(store_dir, 'sl_coloc'))\n",
    "os.mkdir(os.path.join(store_dir, 'sl_anndata'))"
   ]
  },
  {
   "cell_type": "code",
   "execution_count": null,
   "id": "3b87f30b-470d-4039-85a1-6a58a80d4c0a",
   "metadata": {},
   "outputs": [
    {
     "name": "stderr",
     "output_type": "stream",
     "text": [
      "  6%|▌         | 433/7659 [16:22<3:19:36,  1.66s/it]\n",
      "  0%|                                        | 0/159 [00:00<?, ?it/s]\u001b[A\n",
      "  1%|▎                                       | 1/159 [00:03<07:56,  3.01s/it]\u001b[A\n",
      "  2%|▊                                       | 3/159 [00:03<02:55,  1.12s/it]\u001b[A\n",
      "100%|████████████████████████████████████████| 159/159 [00:04<00:00, 37.97it/s]A\n",
      "/home/trose/.conda/envs/metabolomics/lib/python3.10/site-packages/anndata/_core/anndata.py:121: ImplicitModificationWarning: Transforming to str index.\n",
      "  warnings.warn(\"Transforming to str index.\", ImplicitModificationWarning)\n",
      "  6%|▌         | 434/7659 [16:32<6:48:17,  3.39s/it]\n",
      "  0%|                                        | 0/264 [00:00<?, ?it/s]\u001b[A\n",
      "  0%|▏                                       | 1/264 [00:04<18:05,  4.13s/it]\u001b[A\n",
      " 34%|█████████████▋                          | 90/264 [00:04<00:05, 29.30it/s]\u001b[A\n",
      "100%|████████████████████████████████████████| 264/264 [00:04<00:00, 58.22it/s]\u001b[A\n",
      "/home/trose/.conda/envs/metabolomics/lib/python3.10/site-packages/anndata/_core/anndata.py:121: ImplicitModificationWarning: Transforming to str index.\n",
      "  warnings.warn(\"Transforming to str index.\", ImplicitModificationWarning)\n",
      "  6%|▌         | 435/7659 [16:43<10:19:14,  5.14s/it]\n",
      "  0%|                                        | 0/274 [00:00<?, ?it/s]\u001b[A\n",
      "  0%|▏                                       | 1/274 [00:04<18:17,  4.02s/it]\u001b[A\n",
      "  1%|▌                                       | 4/274 [00:04<03:35,  1.26it/s]\u001b[A\n",
      " 45%|██████████████████                      | 124/274 [00:04<00:02, 54.61it/s]\u001b[A\n",
      "100%|████████████████████████████████████████| 274/274 [00:04<00:00, 60.73it/s] \u001b[A\n",
      "/home/trose/.conda/envs/metabolomics/lib/python3.10/site-packages/anndata/_core/anndata.py:121: ImplicitModificationWarning: Transforming to str index.\n",
      "  warnings.warn(\"Transforming to str index.\", ImplicitModificationWarning)\n",
      "  6%|▌         | 478/7659 [18:23<5:13:08,  2.62s/it] "
     ]
    }
   ],
   "source": [
    "database = ('SwissLipids', '2018-02-02')\n",
    "\n",
    "for ds in tqdm(dss):\n",
    "    # Filter for datasets wit SwissLipids annotation\n",
    "    if database in [(x.name, x.version) for x in ds.database_details]:\n",
    "        \n",
    "        if ds.id + '.pickle' not is os.listdir(os.path.join(store_dir, 'sl_anndata')) or ds.id + '.pickle' not is os.listdir(os.path.join(store_dir, 'sl_coloc')):\n",
    "        \n",
    "            # Download results\n",
    "            res = ds.results(fdr=0.1, database=database)\n",
    "\n",
    "            # Only consider datasets with at least 100 annotations:\n",
    "            if res.shape[0] >= 100:\n",
    "\n",
    "                # download all annotation images\n",
    "                aai = ds.all_annotation_images(fdr=0.1, \n",
    "                                               database=database, \n",
    "                                               only_first_isotope=True, \n",
    "                                               scale_intensity=False, \n",
    "                                               hotspot_clipping=False)\n",
    "\n",
    "                # Only consider images with at least 1000 pisels and 20x20 dimensions\n",
    "                if (aai[0]._images[0].size >= 1000) and (aai[0]._images[0].shape[0] >= 20) and (aai[0]._images[0].shape[1] >= 20):\n",
    "\n",
    "                    # Median filter for coloc analysis\n",
    "                    ion_array = np.array([scipy.signal.medfilt2d(x._images[0], \n",
    "                                                                 kernel_size=3).flatten() \n",
    "                                          for x in aai])\n",
    "\n",
    "                    # Save coloc in dataframe\n",
    "                    coloc_df = pd.DataFrame(pairwise_kernels(ion_array, metric='cosine'), \n",
    "                                            columns = [x.formula + x.adduct for x in aai], \n",
    "                                            index=[x.formula + x.adduct for x in aai])\n",
    "                    coloc_df.to_pickle(os.path.join(store_dir, 'sl_coloc', ds.id + '.pickle'))\n",
    "\n",
    "\n",
    "                    # Create AnData object\n",
    "                    adata = dataset_to_anndata(ds=ds,\n",
    "                                               database=database,\n",
    "                                               fdr=0.1,\n",
    "                                               results=res,\n",
    "                                               all_annotation_images=aai)\n",
    "\n",
    "                    pickle.dump(adata, open(os.path.join(store_dir, 'sl_anndata', ds.id + '.pickle'), \"wb\" ))\n",
    "                "
   ]
  },
  {
   "cell_type": "code",
   "execution_count": null,
   "id": "ea2f85c9-1196-486b-86cc-2774de3c0722",
   "metadata": {},
   "outputs": [],
   "source": []
  }
 ],
 "metadata": {
  "kernelspec": {
   "display_name": "Python (metabolomics)",
   "language": "python",
   "name": "metabolomics"
  },
  "language_info": {
   "codemirror_mode": {
    "name": "ipython",
    "version": 3
   },
   "file_extension": ".py",
   "mimetype": "text/x-python",
   "name": "python",
   "nbconvert_exporter": "python",
   "pygments_lexer": "ipython3",
   "version": "3.10.6"
  }
 },
 "nbformat": 4,
 "nbformat_minor": 5
}
